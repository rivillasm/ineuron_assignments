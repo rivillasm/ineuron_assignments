{
 "cells": [
  {
   "cell_type": "markdown",
   "metadata": {},
   "source": [
    "1.1 Write a Python Program(with class concepts) to find the area of the triangle using the below\n",
    "formula.\n",
    "area = (s*(s-a)*(s-b)*(s-c)) ** 0.5\n",
    "Function to take the length of the sides of triangle from user should be defined in the parent\n",
    "class and function to calculate the area should be defined in subclass.\n",
    "\n",
    "1.2 Write a function filter_long_words() that takes a list of words and an integer n and returns\n",
    "the list of words that are longer than n.\n",
    "\n",
    "2.1 Write a Python program using function concept that maps list of words into a list of integers\n",
    "representing the lengths of the corresponding words.\n",
    "Hint: If a list [ ab,cde,erty] is passed on to the python function output should come as [2,3,4]\n",
    "Here 2,3 and 4 are the lengths of the words in the list.\n",
    "\n",
    "2.2 Write a Python function which takes a character (i.e. a string of length 1) and returns True if\n",
    "it is a vowel, False otherwise."
   ]
  },
  {
   "cell_type": "code",
   "execution_count": 14,
   "metadata": {},
   "outputs": [
    {
     "name": "stdin",
     "output_type": "stream",
     "text": [
      " input side a: 3\n",
      " input side b: 3\n",
      " input side c: 3\n"
     ]
    },
    {
     "name": "stdout",
     "output_type": "stream",
     "text": [
      "Area of the triangle : 3.897\n"
     ]
    }
   ],
   "source": [
    "# 1.1\n",
    "\n",
    "class get_sides:\n",
    "    \"\"\" class to pass the sides a,b,c of a triangle\"\"\"\n",
    "    def __init__(self,a,b,c):\n",
    "        self.a=a\n",
    "        self.b=b\n",
    "        self.c=c\n",
    "\n",
    "a=float(input(\" input side a:\"))\n",
    "b=float(input(\" input side b:\"))\n",
    "c=float(input(\" input side c:\"))\n",
    "\n",
    "\n",
    "class get_area(get_sides):                    # sets inheritance\n",
    "    def __init__(self,*args):\n",
    "        super(get_area,self).__init__(*args)\n",
    "    \n",
    "    def area(self):\n",
    "        s = (a + b + c) / 2\n",
    "        return (s*(s-a)*(s-b)*(s-c))**0.5     # calculates the area of a triangle\n",
    "    \n",
    "\n",
    "triangle=get_area(a,b,c)                      # creates an object\n",
    "print(f\"Area of the triangle : {triangle.area() :.3f}\")   # uses the area module."
   ]
  },
  {
   "cell_type": "code",
   "execution_count": 18,
   "metadata": {},
   "outputs": [
    {
     "name": "stdout",
     "output_type": "stream",
     "text": [
      " list of words ['alejandro', 'rivillas'] with more than 5 characters\n"
     ]
    }
   ],
   "source": [
    "# 1.2\n",
    "\n",
    "list_words = [\"mario\",\"alejandro\",\"rivillas\"]\n",
    "n = 5\n",
    "\n",
    "def filter_long_words(list_words, n):\n",
    "    \"\"\" receives a list of words and outputs a filtered list of words based on the number of charactes in the word\"\"\"\n",
    "    _list = []\n",
    "    for word in list_words:\n",
    "        if len(word)>n:\n",
    "            _list.append(word)\n",
    "    return _list\n",
    "\n",
    "result=filter_long_words(list_words, n)\n",
    "print(f\" list of words {result} with more than {n} characters\")\n",
    "            "
   ]
  },
  {
   "cell_type": "code",
   "execution_count": 20,
   "metadata": {},
   "outputs": [
    {
     "name": "stdout",
     "output_type": "stream",
     "text": [
      " input list of words ['mario', 'alejandro', 'rivillas'], Output list of numbers [5, 9, 8]\n"
     ]
    }
   ],
   "source": [
    "# 2.1\n",
    "\n",
    "def words_numbers(list_words):\n",
    "    \"\"\" receives  a list of words and outpus a list of numbers corresponding to the length of each\n",
    "    word (amount of characters) within the input list\"\"\"\n",
    "    list_num = []\n",
    "    for word in list_words:\n",
    "        list_num.append(len(word))\n",
    "    return list_num\n",
    "\n",
    "list_words = [\"mario\",\"alejandro\",\"rivillas\"]\n",
    "\n",
    "result = words_numbers(list_words)\n",
    "print(f\" input list of words {list_words}, Output list of numbers {result}\")"
   ]
  },
  {
   "cell_type": "code",
   "execution_count": 26,
   "metadata": {},
   "outputs": [
    {
     "name": "stdin",
     "output_type": "stream",
     "text": [
      " input a character: c\n"
     ]
    },
    {
     "name": "stdout",
     "output_type": "stream",
     "text": [
      " is character 'c' a vowel?  False\n"
     ]
    }
   ],
   "source": [
    "# 2.2\n",
    "\n",
    "def vowel(_character):\n",
    "    \"\"\" input a characters and output True if it is a vowel, otherwise False \"\"\"\n",
    "    list_vowels = [\"a\",\"e\",\"i\",\"o\",\"u\"]\n",
    "    if _character in list_vowels:\n",
    "        return True\n",
    "    else:\n",
    "        return False\n",
    "    \n",
    "x = str(input(\" input a character:\"))\n",
    "print(f\" is character '{x}' a vowel?  {vowel(x)}\")\n",
    "    \n"
   ]
  },
  {
   "cell_type": "code",
   "execution_count": null,
   "metadata": {},
   "outputs": [],
   "source": []
  }
 ],
 "metadata": {
  "kernelspec": {
   "display_name": "Python 3",
   "language": "python",
   "name": "python3"
  },
  "language_info": {
   "codemirror_mode": {
    "name": "ipython",
    "version": 3
   },
   "file_extension": ".py",
   "mimetype": "text/x-python",
   "name": "python",
   "nbconvert_exporter": "python",
   "pygments_lexer": "ipython3",
   "version": "3.6.5"
  }
 },
 "nbformat": 4,
 "nbformat_minor": 4
}
