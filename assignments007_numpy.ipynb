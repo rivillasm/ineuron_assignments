{
 "cells": [
  {
   "cell_type": "markdown",
   "metadata": {},
   "source": [
    "# NumPy Assignment"
   ]
  },
  {
   "cell_type": "markdown",
   "metadata": {},
   "source": [
    "Write a function so that the columns of the output matrix are powers of the input\n",
    "vector.\n",
    "The order of the powers is determined by the increasing boolean argument. Specifically, when\n",
    "increasing is False, the i-th output column is the input vector raised element-wise to the power\n",
    "of N - i - 1.\n",
    "\n",
    "HINT: Such a matrix with a geometric progression in each row is named for Alexandre-\n",
    "Theophile Vandermonde."
   ]
  },
  {
   "cell_type": "code",
   "execution_count": 1,
   "metadata": {},
   "outputs": [],
   "source": [
    "import numpy as np"
   ]
  },
  {
   "cell_type": "code",
   "execution_count": 6,
   "metadata": {},
   "outputs": [],
   "source": [
    "def my_vandermonde(x, N=None, increasing=True):\n",
    "    \"\"\" The columns of the output matrix are powers of the input vector. \n",
    "    The order of the powers is determined by the increasing boolean argument.\"\"\"\n",
    "    \n",
    "    _array = np.array(x)          # creates an array\n",
    "    mylist = []                   # creates a list\n",
    "    \n",
    "    if N == None:                 # check for parameter N\n",
    "        N = len(x)\n",
    "    else:\n",
    "        N = N\n",
    "           \n",
    "    for i in range(N):\n",
    "        mylist.append(_array**i)   # list of array to different powers\n",
    "\n",
    "    myMatrix = np.matrix(np.array(mylist))\n",
    "    myMatrixT = myMatrix.T\n",
    "        \n",
    "    if increasing==False:            # decreasing order display\n",
    "        myMatrixT=np.flip(myMatrixT, axis=1)   \n",
    "   \n",
    "    return myMatrixT"
   ]
  },
  {
   "cell_type": "code",
   "execution_count": 7,
   "metadata": {},
   "outputs": [
    {
     "name": "stdout",
     "output_type": "stream",
     "text": [
      "original vector: [1, 2, 3, 5]\n"
     ]
    },
    {
     "data": {
      "text/plain": [
       "matrix([[  1,   1,   1,   1],\n",
       "        [  8,   4,   2,   1],\n",
       "        [ 27,   9,   3,   1],\n",
       "        [125,  25,   5,   1]], dtype=int32)"
      ]
     },
     "execution_count": 7,
     "metadata": {},
     "output_type": "execute_result"
    }
   ],
   "source": [
    "_vector = [1, 2, 3, 5]\n",
    "print('original vector:', _vector)\n",
    "my_vandermonde(_vector,increasing=False)"
   ]
  },
  {
   "cell_type": "code",
   "execution_count": 8,
   "metadata": {},
   "outputs": [
    {
     "name": "stdout",
     "output_type": "stream",
     "text": [
      "original vector: [1, 2, 3, 5]\n"
     ]
    },
    {
     "data": {
      "text/plain": [
       "matrix([[ 1,  1,  1],\n",
       "        [ 4,  2,  1],\n",
       "        [ 9,  3,  1],\n",
       "        [25,  5,  1]], dtype=int32)"
      ]
     },
     "execution_count": 8,
     "metadata": {},
     "output_type": "execute_result"
    }
   ],
   "source": [
    "_vector = [1, 2, 3, 5]\n",
    "print('original vector:', _vector)\n",
    "my_vandermonde(_vector,3, increasing=False)"
   ]
  },
  {
   "cell_type": "code",
   "execution_count": 9,
   "metadata": {},
   "outputs": [
    {
     "name": "stdout",
     "output_type": "stream",
     "text": [
      "original vector: [1, 2, 3, 5]\n"
     ]
    },
    {
     "data": {
      "text/plain": [
       "matrix([[  1,   1,   1,   1],\n",
       "        [  1,   2,   4,   8],\n",
       "        [  1,   3,   9,  27],\n",
       "        [  1,   5,  25, 125]], dtype=int32)"
      ]
     },
     "execution_count": 9,
     "metadata": {},
     "output_type": "execute_result"
    }
   ],
   "source": [
    "_vector = [1, 2, 3, 5]\n",
    "print('original vector:', _vector)\n",
    "my_vandermonde(_vector,increasing=True)"
   ]
  },
  {
   "cell_type": "code",
   "execution_count": null,
   "metadata": {},
   "outputs": [],
   "source": []
  },
  {
   "cell_type": "code",
   "execution_count": 10,
   "metadata": {},
   "outputs": [
    {
     "data": {
      "text/plain": [
       "array([[  1,   1,   1,   1],\n",
       "       [  1,   2,   4,   8],\n",
       "       [  1,   3,   9,  27],\n",
       "       [  1,   5,  25, 125]])"
      ]
     },
     "execution_count": 10,
     "metadata": {},
     "output_type": "execute_result"
    }
   ],
   "source": [
    "x = np.array([1, 2, 3, 5])\n",
    "a = np.vander(x,increasing=True)\n",
    "a\n"
   ]
  },
  {
   "cell_type": "code",
   "execution_count": 11,
   "metadata": {},
   "outputs": [
    {
     "data": {
      "text/plain": [
       "array([[  1,   1,   1,   1],\n",
       "       [  8,   4,   2,   1],\n",
       "       [ 27,   9,   3,   1],\n",
       "       [125,  25,   5,   1]])"
      ]
     },
     "execution_count": 11,
     "metadata": {},
     "output_type": "execute_result"
    }
   ],
   "source": [
    "x = np.array([1, 2, 3, 5])\n",
    "a = np.vander(x,increasing=False)\n",
    "a\n"
   ]
  },
  {
   "cell_type": "code",
   "execution_count": 12,
   "metadata": {},
   "outputs": [
    {
     "data": {
      "text/plain": [
       "array([[ 1,  1,  1],\n",
       "       [ 4,  2,  1],\n",
       "       [ 9,  3,  1],\n",
       "       [25,  5,  1]])"
      ]
     },
     "execution_count": 12,
     "metadata": {},
     "output_type": "execute_result"
    }
   ],
   "source": [
    "x = np.array([1, 2, 3, 5])\n",
    "a = np.vander(x,3, increasing=False)\n",
    "a\n"
   ]
  },
  {
   "cell_type": "code",
   "execution_count": null,
   "metadata": {},
   "outputs": [],
   "source": []
  }
 ],
 "metadata": {
  "kernelspec": {
   "display_name": "Python 3",
   "language": "python",
   "name": "python3"
  },
  "language_info": {
   "codemirror_mode": {
    "name": "ipython",
    "version": 3
   },
   "file_extension": ".py",
   "mimetype": "text/x-python",
   "name": "python",
   "nbconvert_exporter": "python",
   "pygments_lexer": "ipython3",
   "version": "3.6.5"
  }
 },
 "nbformat": 4,
 "nbformat_minor": 4
}
