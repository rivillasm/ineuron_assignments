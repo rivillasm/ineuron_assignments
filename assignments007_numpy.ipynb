{
 "cells": [
  {
   "cell_type": "markdown",
   "metadata": {},
   "source": [
    "# NumPy Assignment"
   ]
  },
  {
   "cell_type": "markdown",
   "metadata": {},
   "source": [
    "Write a function so that the columns of the output matrix are powers of the input\n",
    "vector.\n",
    "The order of the powers is determined by the increasing boolean argument. Specifically, when\n",
    "increasing is False, the i-th output column is the input vector raised element-wise to the power\n",
    "of N - i - 1.\n",
    "\n",
    "HINT: Such a matrix with a geometric progression in each row is named for Alexandre-\n",
    "Theophile Vandermonde."
   ]
  },
  {
   "cell_type": "code",
   "execution_count": 1,
   "metadata": {},
   "outputs": [],
   "source": [
    "import numpy as np"
   ]
  },
  {
   "cell_type": "code",
   "execution_count": 2,
   "metadata": {},
   "outputs": [],
   "source": [
    "def my_vandermonde(x, N=None, increasing=True):\n",
    "    \"\"\" The columns of the output matrix are powers of the input vector. \n",
    "    The order of the powers is determined by the increasing boolean argument.\"\"\"\n",
    "    \n",
    "    _array = np.array(x)          # creates an array\n",
    "    mylist = []                   # creates a list\n",
    "    \n",
    "    if N == None:                 # check for parameter N\n",
    "        N = len(x)\n",
    "    else:\n",
    "        N = N\n",
    "           \n",
    "    for i in range(N):\n",
    "        mylist.append(_array**i)   # list of array to different powers\n",
    "\n",
    "    myMatrix = np.matrix(np.array(mylist))\n",
    "    myMatrixT = myMatrix.T\n",
    "        \n",
    "    if increasing==False:            # decreasing order display\n",
    "        myMatrixT=np.flip(myMatrixT, axis=1)   \n",
    "   \n",
    "    return myMatrixT"
   ]
  },
  {
   "cell_type": "code",
   "execution_count": 3,
   "metadata": {},
   "outputs": [
    {
     "name": "stdout",
     "output_type": "stream",
     "text": [
      "original vector: [1, 2, 3, 5]\n"
     ]
    },
    {
     "data": {
      "text/plain": [
       "matrix([[  1,   1,   1,   1],\n",
       "        [  8,   4,   2,   1],\n",
       "        [ 27,   9,   3,   1],\n",
       "        [125,  25,   5,   1]], dtype=int32)"
      ]
     },
     "execution_count": 3,
     "metadata": {},
     "output_type": "execute_result"
    }
   ],
   "source": [
    "_vector = [1, 2, 3, 5]\n",
    "print('original vector:', _vector)\n",
    "my_vandermonde(_vector,increasing=False)"
   ]
  },
  {
   "cell_type": "code",
   "execution_count": 4,
   "metadata": {},
   "outputs": [
    {
     "name": "stdout",
     "output_type": "stream",
     "text": [
      "original vector: [1, 2, 3, 5]\n"
     ]
    },
    {
     "data": {
      "text/plain": [
       "matrix([[ 1,  1,  1],\n",
       "        [ 4,  2,  1],\n",
       "        [ 9,  3,  1],\n",
       "        [25,  5,  1]], dtype=int32)"
      ]
     },
     "execution_count": 4,
     "metadata": {},
     "output_type": "execute_result"
    }
   ],
   "source": [
    "_vector = [1, 2, 3, 5]\n",
    "print('original vector:', _vector)\n",
    "my_vandermonde(_vector,3, increasing=False)"
   ]
  },
  {
   "cell_type": "code",
   "execution_count": 5,
   "metadata": {},
   "outputs": [
    {
     "name": "stdout",
     "output_type": "stream",
     "text": [
      "original vector: [1, 2, 3, 5]\n"
     ]
    },
    {
     "data": {
      "text/plain": [
       "matrix([[  1,   1,   1,   1],\n",
       "        [  1,   2,   4,   8],\n",
       "        [  1,   3,   9,  27],\n",
       "        [  1,   5,  25, 125]], dtype=int32)"
      ]
     },
     "execution_count": 5,
     "metadata": {},
     "output_type": "execute_result"
    }
   ],
   "source": [
    "_vector = [1, 2, 3, 5]\n",
    "print('original vector:', _vector)\n",
    "my_vandermonde(_vector,increasing=True)"
   ]
  },
  {
   "cell_type": "code",
   "execution_count": null,
   "metadata": {},
   "outputs": [],
   "source": []
  },
  {
   "cell_type": "code",
   "execution_count": 6,
   "metadata": {},
   "outputs": [
    {
     "data": {
      "text/plain": [
       "array([[  1,   1,   1,   1],\n",
       "       [  1,   2,   4,   8],\n",
       "       [  1,   3,   9,  27],\n",
       "       [  1,   5,  25, 125]])"
      ]
     },
     "execution_count": 6,
     "metadata": {},
     "output_type": "execute_result"
    }
   ],
   "source": [
    "x = np.array([1, 2, 3, 5])\n",
    "a = np.vander(x,increasing=True)\n",
    "a\n"
   ]
  },
  {
   "cell_type": "code",
   "execution_count": 7,
   "metadata": {},
   "outputs": [
    {
     "data": {
      "text/plain": [
       "array([[  1,   1,   1,   1],\n",
       "       [  8,   4,   2,   1],\n",
       "       [ 27,   9,   3,   1],\n",
       "       [125,  25,   5,   1]])"
      ]
     },
     "execution_count": 7,
     "metadata": {},
     "output_type": "execute_result"
    }
   ],
   "source": [
    "x = np.array([1, 2, 3, 5])\n",
    "a = np.vander(x,increasing=False)\n",
    "a\n"
   ]
  },
  {
   "cell_type": "code",
   "execution_count": 8,
   "metadata": {},
   "outputs": [
    {
     "data": {
      "text/plain": [
       "array([[ 1,  1,  1],\n",
       "       [ 4,  2,  1],\n",
       "       [ 9,  3,  1],\n",
       "       [25,  5,  1]])"
      ]
     },
     "execution_count": 8,
     "metadata": {},
     "output_type": "execute_result"
    }
   ],
   "source": [
    "x = np.array([1, 2, 3, 5])\n",
    "a = np.vander(x,3, increasing=False)\n",
    "a\n"
   ]
  },
  {
   "attachments": {
    "image.png": {
     "image/png": "[encoded data removed]"
    }
   },
   "cell_type": "markdown",
   "metadata": {},
   "source": [
    "### Problem Statement 2:\n",
    "\n",
    "Given a sequence of n values x1, x2, ..., xn and a window size k>0, the k-th moving average of\n",
    "the given sequence is defined as follows:\n",
    "The moving average sequence has n-k+1 elements as shown below.\n",
    "The moving averages with k=4 of a ten-value sequence (n=10) is shown below\n",
    "\n",
    "![image.png](attachment:image.png)"
   ]
  },
  {
   "cell_type": "code",
   "execution_count": 26,
   "metadata": {},
   "outputs": [],
   "source": [
    "def myMovingAverage(x,k):\n",
    "    n=len(x)\n",
    "    mylist = []\n",
    "    for i in range(n-k+1):\n",
    "        mylist.append(np.sum(x[i:i+3]))\n",
    "    return np.array(mylist)"
   ]
  },
  {
   "cell_type": "code",
   "execution_count": 27,
   "metadata": {},
   "outputs": [],
   "source": [
    "_array = np.array([3,5,7,2,8,10,11,65,72,81,99,100,150])\n",
    "_array\n",
    "k=3"
   ]
  },
  {
   "cell_type": "code",
   "execution_count": 30,
   "metadata": {},
   "outputs": [
    {
     "name": "stdout",
     "output_type": "stream",
     "text": [
      "\n",
      " Initial array:\n",
      "[  3   5   7   2   8  10  11  65  72  81  99 100 150]\n",
      "\n",
      " Array of moving averages for a window of size:3\n",
      " [ 15  14  17  20  29  86 148 218 252 280 349]\n"
     ]
    }
   ],
   "source": [
    "print(f'\\n Initial array:\\n{_array}')\n",
    "print(f'\\n Array of moving averages for a window of size:{k}\\n {myMovingAverage(_array,k)}')"
   ]
  }
 ],
 "metadata": {
  "kernelspec": {
   "display_name": "Python 3",
   "language": "python",
   "name": "python3"
  },
  "language_info": {
   "codemirror_mode": {
    "name": "ipython",
    "version": 3
   },
   "file_extension": ".py",
   "mimetype": "text/x-python",
   "name": "python",
   "nbconvert_exporter": "python",
   "pygments_lexer": "ipython3",
   "version": "3.6.5"
  }
 },
 "nbformat": 4,
 "nbformat_minor": 4
}
